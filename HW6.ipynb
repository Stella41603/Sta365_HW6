{
  "cells": [
    {
      "cell_type": "markdown",
      "id": "0ed88fea",
      "metadata": {
        "id": "0ed88fea"
      },
      "source": [
        "## Week 6 Homework\n",
        "\n",
        "---\n",
        "\n",
        "### Q1: Let's start having some *real* fun...\n",
        "\n",
        "We previously considered the normal-gamma specification\n",
        "\n",
        "$$\\scriptsize\n",
        "\\begin{align*}\n",
        "p(\\theta,\\tau|x) &\\propto{} p(\\theta,\\tau,x) = p(x|\\theta)p(\\theta)p(\\tau) \\quad (\\theta \\perp\\!\\!\\perp \\tau) \\leftarrow \\text{independent priors} & p(\\theta|x,\\theta_0,\\tau_0, \\tau) &={} \\text{N}\\left(\\frac{\\left(\\tau_0 \\theta_0+\\tau\\sum_{i=1}^{n}x_{i}\\right)}{(\\tau_0+n\\tau)}, \\sigma^{-2}=\\tau_0+n\\tau \\right)\\\\\n",
        "&={}  \\left[\\prod_{i=1}^n\\sqrt{\\frac{\\tau}{2\\pi}} e^{-\\frac{\\tau\\left(x_i-\\theta\\right)^2}{2}}\\right] \\sqrt{\\frac{\\tau_0}{2\\pi}} e^{-\\frac{\\tau_0\\left(\\theta-\\theta_0\\right)^2}{2}} \\frac{\\beta ^{\\alpha}}{\\Gamma(\\alpha)} \\tau^{\\alpha -1}e^{-\\beta \\tau} & p(\\tau|x, \\alpha, \\beta, \\theta) &={} \\text{Gamma}\\left(\\frac{\\alpha}{2}+\\frac{n}{2}, \\frac{\\beta}{2}+\\frac{1}{2}\\sum_{i=1}^n\\left(x_i-\\theta\\right)^2 \\right)\\\\{}\\\\\n",
        "\\end{align*}$$\n",
        "\n",
        "How about instead we consider a \"[location-scale-t](https://en.wikipedia.org/wiki/Student%27s_t-distribution#Location-scale_t-distribution)-norm-halfnorm-discrete-uniform\" specification?\n",
        "\n",
        "$$\\large\n",
        "\\overset{x_i\\; \\sim\\; \\text{location-scale-t}(\\mu, \\sigma^2, \\nu)}{\\quad\\quad\\quad p(x|\\mu,\\sigma^2, \\nu)} = {\\prod_{i=1}^n\n",
        "\\frac{\\Gamma\\left(\\frac{\\nu+1}{2}\\right)}{\\Gamma\\left(\\frac{\\nu}{2}\\right) \\sqrt{\\pi \\nu \\sigma^2}}\\left(1+\\frac{1}{\\nu} \\frac{(x_i-\\mu)^2}{\\sigma^2}\\right)^{-(\\nu+1) / 2}}$$\n",
        "\n",
        "$$\\scriptsize\n",
        "\\begin{align}\n",
        "p(\\mu | \\mu_0, \\tau_0) &={} \\sqrt{\\frac{\\tau_0}{2\\pi}} e^{-\\frac{\\tau_0}{2}\\left(\\mu-\\mu_0\\right)^2} & p(\\sigma^2 | \\sigma_0^2) &={} \\sqrt{\\frac{2}{\\pi\\sigma_0^2}} \\exp \\left(-\\frac{(\\sigma^2)^2}{2 \\sigma_0^2}\\right) 1_{[0,\\infty]}(\\sigma^2) & p(\\nu=i) &={} \\Bigg\\{ \\begin{array}{cl} \\frac{1}{100} & \\text{for }i=1,\\cdots,100\\\\ 0 & \\text{otherwise} \\end{array}\\\\\n",
        "& \\textrm{normal} && \\textrm{half-normal} && \\textrm{discrete uniform}\n",
        "\\end{align}\n",
        "$$\n",
        "\n",
        "Um yeah we're gonna need a Metroposlis cleanup on aisles one two and three  \n",
        "(or a slice or adapative squeeze rejection sampling steps... in place of Metroposlis steps)\n",
        "\n",
        "*Implement the a Metroposlis within Gibbs algorithm to smaple from the posterior of the above specification. Use a \"smallish\" sample size, say $n=100$ and implement your acceptance probability on a log-scale as described in [piazza post @65_f1](https://piazza.com/class/m5jvyco84083fm/post/65_f1)*\n",
        "\n",
        "\n",
        "\n"
      ]
    },
    {
      "cell_type": "code",
      "source": [
        "import numpy as np\n",
        "from scipy.special import gammaln\n",
        "\n",
        "def t_log_likelihood(x, mu, sigma, nu):\n",
        "    if sigma <= 0:\n",
        "        return -np.inf\n",
        "    n = len(x)\n",
        "    term1 = n * (gammaln((nu + 1) / 2) - gammaln(nu / 2) - 0.5 * np.log(np.pi * nu) - np.log(sigma))\n",
        "    residuals = ((x - mu) / sigma) ** 2\n",
        "    term2 = -((nu + 1) / 2) * np.sum(np.log1p(residuals / nu))\n",
        "    return term1 + term2\n",
        "\n",
        "def mu_log_prior(mu, mu0, tau0):\n",
        "    return 0.5 * np.log(tau0 / (2 * np.pi)) - 0.5 * tau0 * (mu - mu0) ** 2\n",
        "\n",
        "def sigma_log_prior(sigma, sigma0):\n",
        "    if sigma <= 0:\n",
        "        return -np.inf\n",
        "    return np.log(np.sqrt(2) / (sigma0 * np.sqrt(np.pi))) - (sigma ** 2) / (2 * sigma0 ** 2)\n",
        "\n",
        "def nu_log_prior(nu):\n",
        "    if nu < 1 or nu > 100 or not float(nu).is_integer():\n",
        "        return -np.inf\n",
        "    return -np.log(100)\n",
        "\n",
        "def posterior_log(x, mu, sigma, nu, mu0, tau0, sigma0):\n",
        "    return t_log_likelihood(x, mu, sigma, nu) + mu_log_prior(mu, mu0, tau0) + sigma_log_prior(sigma, sigma0) + nu_log_prior(nu)\n",
        "\n",
        "def gibbs_sampler(x, samples=10000, mu0=0.0, tau0=1.0, sigma0=1.0, start_mu=0.0, start_sigma=1.0, start_nu=5, mu_step=0.3, logsigma_step=0.3):\n",
        "    mus = np.zeros(samples)\n",
        "    sigmas = np.zeros(samples)\n",
        "    nus = np.zeros(samples)\n",
        "\n",
        "    mu_curr = start_mu\n",
        "    sigma_curr = start_sigma\n",
        "    nu_curr = start_nu\n",
        "    curr_log_post = posterior_log(x, mu_curr, sigma_curr, nu_curr, mu0, tau0, sigma0)\n",
        "\n",
        "    for i in range(samples):\n",
        "        mu_prop = mu_curr + mu_step * np.random.randn()\n",
        "        prop_log_post = posterior_log(x, mu_prop, sigma_curr, nu_curr, mu0, tau0, sigma0)\n",
        "        if np.log(np.random.rand()) < prop_log_post - curr_log_post:\n",
        "            mu_curr = mu_prop\n",
        "            curr_log_post = prop_log_post\n",
        "\n",
        "        log_sigma_curr = np.log(sigma_curr)\n",
        "        log_sigma_prop = log_sigma_curr + logsigma_step * np.random.randn()\n",
        "        sigma_prop = np.exp(log_sigma_prop)\n",
        "        prop_log_post = posterior_log(x, mu_curr, sigma_prop, nu_curr, mu0, tau0, sigma0) + log_sigma_prop - log_sigma_curr\n",
        "        if np.log(np.random.rand()) < prop_log_post - curr_log_post:\n",
        "            sigma_curr = sigma_prop\n",
        "            curr_log_post = prop_log_post\n",
        "\n",
        "        nu_prop = np.random.randint(1, 101)\n",
        "        prop_log_post = posterior_log(x, mu_curr, sigma_curr, nu_prop, mu0, tau0, sigma0)\n",
        "        if np.log(np.random.rand()) < prop_log_post - curr_log_post:\n",
        "            nu_curr = nu_prop\n",
        "            curr_log_post = prop_log_post\n",
        "\n",
        "        mus[i] = mu_curr\n",
        "        sigmas[i] = sigma_curr\n",
        "        nus[i] = nu_curr\n",
        "\n",
        "    return mus, sigmas, nus\n",
        "\n",
        "if __name__ == \"__main__\":\n",
        "    np.random.seed(42)\n",
        "    n = 100\n",
        "    data = np.random.standard_t(df=5, size=n)\n",
        "    total_samples = 5000\n",
        "    mu_samples, sigma_samples, nu_samples = gibbs_sampler(data, samples=total_samples, mu0=0, tau0=1, sigma0=1, start_mu=0, start_sigma=1, start_nu=5, mu_step=0.3, logsigma_step=0.3)\n",
        "\n",
        "    print(\"Mean mu:\", np.mean(mu_samples[int(0.2 * total_samples):]))\n",
        "    print(\"Mean sigma:\", np.mean(sigma_samples[int(0.2 * total_samples):]))\n",
        "    print(\"Most frequent nu:\", np.bincount(nu_samples.astype(int)).argmax())\n"
      ],
      "metadata": {
        "colab": {
          "base_uri": "https://localhost:8080/",
          "height": 0
        },
        "id": "RGwrmEbQmYc2",
        "outputId": "68bc0dba-1719-471b-d7ab-c87b31204b22"
      },
      "id": "RGwrmEbQmYc2",
      "execution_count": 2,
      "outputs": [
        {
          "output_type": "stream",
          "name": "stdout",
          "text": [
            "Mean mu: -0.14323178186623944\n",
            "Mean sigma: 0.9045975540665754\n",
            "Most frequent nu: 3\n"
          ]
        }
      ]
    },
    {
      "cell_type": "markdown",
      "source": [
        "### Q2: explore the role of sample size in providing inference for the degrees of freedom parameter $\\nu$\n",
        "\n",
        "*Implement the specification above using `PyMC` where you can explore inference on $\\nu$ at different sample sizes. Provide a summarization and explanation of your findings.*"
      ],
      "metadata": {
        "id": "5Fm_wZ8fmUFw"
      },
      "id": "5Fm_wZ8fmUFw"
    },
    {
      "cell_type": "code",
      "source": [
        "import pymc as pm\n",
        "import numpy as np\n",
        "import arviz as az\n",
        "import matplotlib.pyplot as plt\n",
        "\n",
        "def run_pymc_model(sample_size):\n",
        "    np.random.seed(42)\n",
        "    data = np.random.standard_t(df=5, size=sample_size)\n",
        "    with pm.Model() as model:\n",
        "        mu = pm.Normal('mu', mu=0, sigma=1)\n",
        "        sigma = pm.HalfNormal('sigma', sigma=1)\n",
        "        nu = pm.DiscreteUniform('nu', lower=1, upper=100)\n",
        "        likelihood = pm.StudentT('likelihood', nu=nu, mu=mu, sigma=sigma, observed=data)\n",
        "        trace = pm.sample(2000, tune=1000, cores=2, return_inferencedata=True)\n",
        "    return trace\n",
        "\n",
        "sample_sizes = [30, 100, 500]\n",
        "results = {}\n",
        "for size in sample_sizes:\n",
        "    print(f\"Sample size: {size}\")\n",
        "    trace = run_pymc_model(size)\n",
        "    results[size] = trace\n",
        "\n",
        "fig, axes = plt.subplots(1, len(sample_sizes), figsize=(15, 5))\n",
        "for i, size in enumerate(sample_sizes):\n",
        "    az.plot_posterior(results[size], var_names=['nu'], ax=axes[i])\n",
        "    axes[i].set_title(f'Sample Size: {size}')\n",
        "\n",
        "plt.tight_layout()\n",
        "plt.show()\n",
        "\n",
        "for size in sample_sizes:\n",
        "    nu_mean = results[size].posterior['nu'].mean().values.item()\n",
        "    print(f\"Mean nu for sample size {size}: {nu_mean}\")\n"
      ],
      "metadata": {
        "colab": {
          "base_uri": "https://localhost:8080/",
          "height": 1040,
          "referenced_widgets": [
            "60e4caecdcd844b0aa26b8b16600f529",
            "64e878445e43469dabecb5183f01a751",
            "be5d78e8e27a476686c1315e28eb505a",
            "64828a9511aa4641aa92c3b281e06af1",
            "f4c26b7d04204fc398b1b2132eac80cb",
            "04addb5699e344a7b7927841b036e13a"
          ]
        },
        "id": "NFq6vfQPoalW",
        "outputId": "c56c74e0-60d9-4846-b9df-2265b4716565"
      },
      "id": "NFq6vfQPoalW",
      "execution_count": 18,
      "outputs": [
        {
          "output_type": "stream",
          "name": "stdout",
          "text": [
            "Sample size: 30\n"
          ]
        },
        {
          "output_type": "display_data",
          "data": {
            "text/plain": [
              "Output()"
            ],
            "application/vnd.jupyter.widget-view+json": {
              "version_major": 2,
              "version_minor": 0,
              "model_id": "60e4caecdcd844b0aa26b8b16600f529"
            }
          },
          "metadata": {}
        },
        {
          "output_type": "display_data",
          "data": {
            "text/plain": [],
            "text/html": [
              "<pre style=\"white-space:pre;overflow-x:auto;line-height:normal;font-family:Menlo,'DejaVu Sans Mono',consolas,'Courier New',monospace\"></pre>\n"
            ]
          },
          "metadata": {}
        },
        {
          "output_type": "stream",
          "name": "stdout",
          "text": [
            "Sample size: 100\n"
          ]
        },
        {
          "output_type": "display_data",
          "data": {
            "text/plain": [
              "Output()"
            ],
            "application/vnd.jupyter.widget-view+json": {
              "version_major": 2,
              "version_minor": 0,
              "model_id": "be5d78e8e27a476686c1315e28eb505a"
            }
          },
          "metadata": {}
        },
        {
          "output_type": "display_data",
          "data": {
            "text/plain": [],
            "text/html": [
              "<pre style=\"white-space:pre;overflow-x:auto;line-height:normal;font-family:Menlo,'DejaVu Sans Mono',consolas,'Courier New',monospace\"></pre>\n"
            ]
          },
          "metadata": {}
        },
        {
          "output_type": "stream",
          "name": "stdout",
          "text": [
            "Sample size: 500\n"
          ]
        },
        {
          "output_type": "display_data",
          "data": {
            "text/plain": [
              "Output()"
            ],
            "application/vnd.jupyter.widget-view+json": {
              "version_major": 2,
              "version_minor": 0,
              "model_id": "f4c26b7d04204fc398b1b2132eac80cb"
            }
          },
          "metadata": {}
        },
        {
          "output_type": "display_data",
          "data": {
            "text/plain": [],
            "text/html": [
              "<pre style=\"white-space:pre;overflow-x:auto;line-height:normal;font-family:Menlo,'DejaVu Sans Mono',consolas,'Courier New',monospace\"></pre>\n"
            ]
          },
          "metadata": {}
        },
        {
          "output_type": "display_data",
          "data": {
            "text/plain": [
              "<Figure size 1500x500 with 3 Axes>"
            ],
            "image/png": "[encoded data removed]"
          },
          "metadata": {}
        },
        {
          "output_type": "stream",
          "name": "stdout",
          "text": [
            "Mean nu for sample size 30: 53.6715\n",
            "Mean nu for sample size 100: 3.357\n",
            "Mean nu for sample size 500: 4.948\n"
          ]
        }
      ]
    },
    {
      "cell_type": "markdown",
      "source": [
        "# Summary and Explanation of Findings\n",
        "\n",
        "In this analysis, we explored how different sample sizes affect the inference of the degrees of freedom parameter ($\\nu$) in a Bayesian framework using a Student’s *t*-distribution.\n",
        "\n",
        "---\n",
        "\n",
        "## Findings\n",
        "\n",
        "### 1. Sample Size 30\n",
        "- The posterior distribution of $\\nu$ was relatively broad and uncertain.\n",
        "- The mean estimate of $\\nu$ was likely farther from the true value (5).\n",
        "- The small sample size led to higher variability in the inference due to limited data.\n",
        "\n",
        "### 2. Sample Size 100\n",
        "- The posterior distribution was more concentrated around the true value.\n",
        "- The mean estimate of $\\nu$ was closer to the actual value of 5.\n",
        "- Increased sample size provided better information, improving the accuracy of the inference.\n",
        "\n",
        "### 3. Sample Size 500\n",
        "- The posterior distribution was sharply peaked around the true $\\nu$ value.\n",
        "- The mean estimate of $\\nu$ was very close to 5, with reduced uncertainty.\n",
        "- A large sample size significantly improved the precision of the inference, highlighting how Bayesian methods benefit from more data.\n",
        "\n",
        "---\n",
        "\n",
        "## Explanation\n",
        "\n",
        "The results clearly demonstrate that as the sample size increases, the model becomes more confident in estimating $\\nu$. This aligns with the fundamental statistical principle that larger datasets tend to provide more reliable and precise estimates. In smaller samples, the heavy-tailed nature of the *t*-distribution makes it harder to accurately estimate the degrees of freedom, leading to broader posterior distributions.\n",
        "\n",
        "As more data becomes available, the posterior distributions become narrower, and the mean estimates converge toward the true value. This behavior reflects the Bayesian principle that the impact of prior beliefs diminishes as more data is incorporated.\n",
        "\n",
        "Overall, increasing the sample size improves both the **accuracy** (closeness to the true value) and **precision** (narrower credible intervals) of the posterior inference for $\\nu$.\n"
      ],
      "metadata": {
        "id": "h0CDRog8u6Vv"
      },
      "id": "h0CDRog8u6Vv"
    },
    {
      "cell_type": "markdown",
      "id": "306b3612",
      "metadata": {
        "id": "306b3612"
      },
      "source": [
        "### Q3: the posterior predictive distribution does something like the following...\n",
        "\n",
        "Let $p(\\tau_i)$ be $\\require{cancel} \\textrm{gamma}\\big(\\tau_i | \\alpha = \\frac{\\nu}{2}, \\overset{\\textrm{rate}\\xcancel{\\textrm{scale}}}{\\beta = \\frac{\\nu}{2}}\\big)$ and let $p(y_i|\\tau_i)$ be $\\textrm{N}(y_i | 0,\\tau_i)$ and now integrate out the uncertainty in $\\tau_i$ and see what distribution is left over for $y_i$.\n",
        "\n",
        "*Go look at the gamma distribution and remember that you know that the integrals of unnormalized densities are the inverse of their normalizing constants. Then go look at the t distribution and determine what distribution the following expression defines. Then explain why the behavior demonstrated here is analagous to that of the posterior predictive distribution.*\n",
        "\n",
        "$$\\int p(y_i|\\tau_i) p(\\tau_i)  d\\tau_i = \\int \\sqrt{\\frac{\\tau_i}{2\\pi}}e^{-\\frac{1}{2}\\tau_i y_i^2} \\frac {\\frac{\\nu}{2}^{\\frac{\\nu}{2}}}{\\Gamma \\left(\\frac{\\nu}{2}\\right)} \\tau_i^{\\frac{\\nu}{2}-1}e^{-\\frac{\\nu}{2}\\tau_i} d\\tau_i$$\n",
        "\n"
      ]
    },
    {
      "cell_type": "markdown",
      "source": [
        "# Summary and Explanation\n",
        "\n",
        "In this question, we're integrating out the uncertainty in $\\tau_i$ from the hierarchical model defined as:\n",
        "\n",
        "1. $p(\\tau_i) \\sim \\text{Gamma} \\left( \\alpha = \\frac{\\nu}{2}, \\, \\beta = \\frac{\\nu}{2} \\right)$\n",
        "2. $p(y_i | \\tau_i) \\sim \\mathcal{N} \\left( 0, \\, \\tau_i^{-1} \\right)$\n",
        "\n",
        "The goal is to find the marginal distribution of $y_i$ by integrating over $\\tau_i$:\n",
        "\n",
        "$$\n",
        "p(y_i) = \\int p(y_i | \\tau_i) \\, p(\\tau_i) \\, d\\tau_i\n",
        "$$\n",
        "\n",
        "---\n",
        "Explanation:\n",
        "\n",
        "- **The Gamma distribution** is a common prior for precision (inverse variance) in Bayesian statistics. Here, $\\tau_i$ follows a Gamma distribution with both shape and rate parameters equal to $\\nu/2$.\n",
        "\n",
        "- **The Normal distribution** for $y_i$ conditioned on $\\tau_i$ reflects a Gaussian likelihood with precision $\\tau_i$ (or variance $1/\\tau_i$).\n",
        "\n",
        "By integrating $\\tau_i$ out, the marginal distribution $p(y_i)$ becomes a **Student’s t-distribution**. This happens because when you marginalize a Normal distribution with a Gamma-distributed precision, the resulting distribution follows a Student’s *t*-distribution.\n",
        "\n",
        "This result aligns with the **conjugacy** between the Normal and Gamma distributions. The resulting *t*-distribution has:\n",
        "\n",
        "- **Mean:** 0 (since the Normal has mean 0)\n",
        "- **Degrees of freedom:** $\\nu$\n",
        "- **Scale:** Related to $\\frac{1}{\\sqrt{\\tau_i}}$\n",
        "\n",
        "---\n",
        "\n",
        "## Why is this analogous to the posterior predictive distribution?\n",
        "\n",
        "The posterior predictive distribution reflects the uncertainty not just in the observed data but also in the parameters. When integrating out $\\tau_i$, we account for the uncertainty in the precision.\n",
        "\n",
        "The resulting *t*-distribution:\n",
        "\n",
        "- Is **heavy-tailed** compared to the Normal distribution, reflecting additional uncertainty.\n",
        "- Incorporates both the prior belief about $\\tau_i$ (from the Gamma distribution) and the observed data (from the Normal likelihood).\n"
      ],
      "metadata": {
        "id": "NJHgf4tSxEv5"
      },
      "id": "NJHgf4tSxEv5"
    }
  ],
  "metadata": {
    "kernelspec": {
      "display_name": "Python 3",
      "language": "python",
      "name": "python3"
    },
    "language_info": {
      "codemirror_mode": {
        "name": "ipython",
        "version": 3
      },
      "file_extension": ".py",
      "mimetype": "text/x-python",
      "name": "python",
      "nbconvert_exporter": "python",
      "pygments_lexer": "ipython3",
      "version": "3.12.2"
    },
    "colab": {
      "provenance": []
    },
    "widgets": {
      "application/vnd.jupyter.widget-state+json": {
        "60e4caecdcd844b0aa26b8b16600f529": {
          "model_module": "@jupyter-widgets/output",
          "model_name": "OutputModel",
          "model_module_version": "1.0.0",
          "state": {
            "_dom_classes": [],
            "_model_module": "@jupyter-widgets/output",
            "_model_module_version": "1.0.0",
            "_model_name": "OutputModel",
            "_view_count": null,
            "_view_module": "@jupyter-widgets/output",
            "_view_module_version": "1.0.0",
            "_view_name": "OutputView",
            "layout": "IPY_MODEL_64e878445e43469dabecb5183f01a751",
            "msg_id": "",
            "outputs": [
              {
                "output_type": "display_data",
                "data": {
                  "text/plain": "                                                                                                                   \n \u001b[1m          \u001b[0m \u001b[1m       \u001b[0m \u001b[1m          \u001b[0m \u001b[1m \u001b[0m\u001b[1mStep    \u001b[0m\u001b[1m \u001b[0m \u001b[1m \u001b[0m\u001b[1mGrad    \u001b[0m\u001b[1m \u001b[0m \u001b[1m        \u001b[0m \u001b[1m         \u001b[0m \u001b[1m \u001b[0m\u001b[1mAccept  \u001b[0m\u001b[1m \u001b[0m \u001b[1m \u001b[0m\u001b[1mSampling\u001b[0m\u001b[1m \u001b[0m \u001b[1m         \u001b[0m \u001b[1m          \u001b[0m \n \u001b[1m \u001b[0m\u001b[1mProgress\u001b[0m\u001b[1m \u001b[0m \u001b[1m \u001b[0m\u001b[1mDraws\u001b[0m\u001b[1m \u001b[0m \u001b[1m \u001b[0m\u001b[1mDiverge…\u001b[0m\u001b[1m \u001b[0m \u001b[1m \u001b[0m\u001b[1msize    \u001b[0m\u001b[1m \u001b[0m \u001b[1m \u001b[0m\u001b[1mevals   \u001b[0m\u001b[1m \u001b[0m \u001b[1m \u001b[0m\u001b[1mTuning\u001b[0m\u001b[1m \u001b[0m \u001b[1m \u001b[0m\u001b[1mScaling\u001b[0m\u001b[1m \u001b[0m \u001b[1m \u001b[0m\u001b[1mRate    \u001b[0m\u001b[1m \u001b[0m \u001b[1m \u001b[0m\u001b[1mSpeed   \u001b[0m\u001b[1m \u001b[0m \u001b[1m \u001b[0m\u001b[1mElapsed\u001b[0m\u001b[1m \u001b[0m \u001b[1m \u001b[0m\u001b[1mRemaini…\u001b[0m\u001b[1m \u001b[0m \n ───────────────────────────────────────────────────────────────────────────────────────────────────────────────── \n  \u001b[38;2;31;119;180m━━━━━━━━\u001b[0m   3000    0          0.95       3          False    64.42     0.00       526.93     0:00:05   0:00:00   \n                                                                                    draws/s                        \n  \u001b[38;2;31;119;180m━━━━━━━━\u001b[0m   3000    0          1.03       7          False    58.56     4.18       514.27     0:00:05   0:00:00   \n                                                                                    draws/s                        \n                                                                                                                   \n",
                  "text/html": "<pre style=\"white-space:pre;overflow-x:auto;line-height:normal;font-family:Menlo,'DejaVu Sans Mono',consolas,'Courier New',monospace\">                                                                                                                   \n <span style=\"font-weight: bold\">          </span> <span style=\"font-weight: bold\">       </span> <span style=\"font-weight: bold\">          </span> <span style=\"font-weight: bold\"> Step     </span> <span style=\"font-weight: bold\"> Grad     </span> <span style=\"font-weight: bold\">        </span> <span style=\"font-weight: bold\">         </span> <span style=\"font-weight: bold\"> Accept   </span> <span style=\"font-weight: bold\"> Sampling </span> <span style=\"font-weight: bold\">         </span> <span style=\"font-weight: bold\">          </span> \n <span style=\"font-weight: bold\"> Progress </span> <span style=\"font-weight: bold\"> Draws </span> <span style=\"font-weight: bold\"> Diverge… </span> <span style=\"font-weight: bold\"> size     </span> <span style=\"font-weight: bold\"> evals    </span> <span style=\"font-weight: bold\"> Tuning </span> <span style=\"font-weight: bold\"> Scaling </span> <span style=\"font-weight: bold\"> Rate     </span> <span style=\"font-weight: bold\"> Speed    </span> <span style=\"font-weight: bold\"> Elapsed </span> <span style=\"font-weight: bold\"> Remaini… </span> \n ───────────────────────────────────────────────────────────────────────────────────────────────────────────────── \n  <span style=\"color: #1f77b4; text-decoration-color: #1f77b4\">━━━━━━━━</span>   3000    0          0.95       3          False    64.42     0.00       526.93     0:00:05   0:00:00   \n                                                                                    draws/s                        \n  <span style=\"color: #1f77b4; text-decoration-color: #1f77b4\">━━━━━━━━</span>   3000    0          1.03       7          False    58.56     4.18       514.27     0:00:05   0:00:00   \n                                                                                    draws/s                        \n                                                                                                                   \n</pre>\n"
                },
                "metadata": {}
              }
            ]
          }
        },
        "64e878445e43469dabecb5183f01a751": {
          "model_module": "@jupyter-widgets/base",
          "model_name": "LayoutModel",
          "model_module_version": "1.2.0",
          "state": {
            "_model_module": "@jupyter-widgets/base",
            "_model_module_version": "1.2.0",
            "_model_name": "LayoutModel",
            "_view_count": null,
            "_view_module": "@jupyter-widgets/base",
            "_view_module_version": "1.2.0",
            "_view_name": "LayoutView",
            "align_content": null,
            "align_items": null,
            "align_self": null,
            "border": null,
            "bottom": null,
            "display": null,
            "flex": null,
            "flex_flow": null,
            "grid_area": null,
            "grid_auto_columns": null,
            "grid_auto_flow": null,
            "grid_auto_rows": null,
            "grid_column": null,
            "grid_gap": null,
            "grid_row": null,
            "grid_template_areas": null,
            "grid_template_columns": null,
            "grid_template_rows": null,
            "height": null,
            "justify_content": null,
            "justify_items": null,
            "left": null,
            "margin": null,
            "max_height": null,
            "max_width": null,
            "min_height": null,
            "min_width": null,
            "object_fit": null,
            "object_position": null,
            "order": null,
            "overflow": null,
            "overflow_x": null,
            "overflow_y": null,
            "padding": null,
            "right": null,
            "top": null,
            "visibility": null,
            "width": null
          }
        },
        "be5d78e8e27a476686c1315e28eb505a": {
          "model_module": "@jupyter-widgets/output",
          "model_name": "OutputModel",
          "model_module_version": "1.0.0",
          "state": {
            "_dom_classes": [],
            "_model_module": "@jupyter-widgets/output",
            "_model_module_version": "1.0.0",
            "_model_name": "OutputModel",
            "_view_count": null,
            "_view_module": "@jupyter-widgets/output",
            "_view_module_version": "1.0.0",
            "_view_name": "OutputView",
            "layout": "IPY_MODEL_64828a9511aa4641aa92c3b281e06af1",
            "msg_id": "",
            "outputs": [
              {
                "output_type": "display_data",
                "data": {
                  "text/plain": "                                                                                                                   \n \u001b[1m          \u001b[0m \u001b[1m       \u001b[0m \u001b[1m          \u001b[0m \u001b[1m \u001b[0m\u001b[1mStep    \u001b[0m\u001b[1m \u001b[0m \u001b[1m \u001b[0m\u001b[1mGrad    \u001b[0m\u001b[1m \u001b[0m \u001b[1m        \u001b[0m \u001b[1m         \u001b[0m \u001b[1m \u001b[0m\u001b[1mAccept  \u001b[0m\u001b[1m \u001b[0m \u001b[1m \u001b[0m\u001b[1mSampling\u001b[0m\u001b[1m \u001b[0m \u001b[1m         \u001b[0m \u001b[1m          \u001b[0m \n \u001b[1m \u001b[0m\u001b[1mProgress\u001b[0m\u001b[1m \u001b[0m \u001b[1m \u001b[0m\u001b[1mDraws\u001b[0m\u001b[1m \u001b[0m \u001b[1m \u001b[0m\u001b[1mDiverge…\u001b[0m\u001b[1m \u001b[0m \u001b[1m \u001b[0m\u001b[1msize    \u001b[0m\u001b[1m \u001b[0m \u001b[1m \u001b[0m\u001b[1mevals   \u001b[0m\u001b[1m \u001b[0m \u001b[1m \u001b[0m\u001b[1mTuning\u001b[0m\u001b[1m \u001b[0m \u001b[1m \u001b[0m\u001b[1mScaling\u001b[0m\u001b[1m \u001b[0m \u001b[1m \u001b[0m\u001b[1mRate    \u001b[0m\u001b[1m \u001b[0m \u001b[1m \u001b[0m\u001b[1mSpeed   \u001b[0m\u001b[1m \u001b[0m \u001b[1m \u001b[0m\u001b[1mElapsed\u001b[0m\u001b[1m \u001b[0m \u001b[1m \u001b[0m\u001b[1mRemaini…\u001b[0m\u001b[1m \u001b[0m \n ───────────────────────────────────────────────────────────────────────────────────────────────────────────────── \n  \u001b[38;2;31;119;180m━━━━━━━━\u001b[0m   3000    0          1.04       3          False    2.20      0.10       419.13     0:00:07   0:00:00   \n                                                                                    draws/s                        \n  \u001b[38;2;31;119;180m━━━━━━━━\u001b[0m   3000    0          0.83       3          False    2.42      0.00       404.52     0:00:07   0:00:00   \n                                                                                    draws/s                        \n                                                                                                                   \n",
                  "text/html": "<pre style=\"white-space:pre;overflow-x:auto;line-height:normal;font-family:Menlo,'DejaVu Sans Mono',consolas,'Courier New',monospace\">                                                                                                                   \n <span style=\"font-weight: bold\">          </span> <span style=\"font-weight: bold\">       </span> <span style=\"font-weight: bold\">          </span> <span style=\"font-weight: bold\"> Step     </span> <span style=\"font-weight: bold\"> Grad     </span> <span style=\"font-weight: bold\">        </span> <span style=\"font-weight: bold\">         </span> <span style=\"font-weight: bold\"> Accept   </span> <span style=\"font-weight: bold\"> Sampling </span> <span style=\"font-weight: bold\">         </span> <span style=\"font-weight: bold\">          </span> \n <span style=\"font-weight: bold\"> Progress </span> <span style=\"font-weight: bold\"> Draws </span> <span style=\"font-weight: bold\"> Diverge… </span> <span style=\"font-weight: bold\"> size     </span> <span style=\"font-weight: bold\"> evals    </span> <span style=\"font-weight: bold\"> Tuning </span> <span style=\"font-weight: bold\"> Scaling </span> <span style=\"font-weight: bold\"> Rate     </span> <span style=\"font-weight: bold\"> Speed    </span> <span style=\"font-weight: bold\"> Elapsed </span> <span style=\"font-weight: bold\"> Remaini… </span> \n ───────────────────────────────────────────────────────────────────────────────────────────────────────────────── \n  <span style=\"color: #1f77b4; text-decoration-color: #1f77b4\">━━━━━━━━</span>   3000    0          1.04       3          False    2.20      0.10       419.13     0:00:07   0:00:00   \n                                                                                    draws/s                        \n  <span style=\"color: #1f77b4; text-decoration-color: #1f77b4\">━━━━━━━━</span>   3000    0          0.83       3          False    2.42      0.00       404.52     0:00:07   0:00:00   \n                                                                                    draws/s                        \n                                                                                                                   \n</pre>\n"
                },
                "metadata": {}
              }
            ]
          }
        },
        "64828a9511aa4641aa92c3b281e06af1": {
          "model_module": "@jupyter-widgets/base",
          "model_name": "LayoutModel",
          "model_module_version": "1.2.0",
          "state": {
            "_model_module": "@jupyter-widgets/base",
            "_model_module_version": "1.2.0",
            "_model_name": "LayoutModel",
            "_view_count": null,
            "_view_module": "@jupyter-widgets/base",
            "_view_module_version": "1.2.0",
            "_view_name": "LayoutView",
            "align_content": null,
            "align_items": null,
            "align_self": null,
            "border": null,
            "bottom": null,
            "display": null,
            "flex": null,
            "flex_flow": null,
            "grid_area": null,
            "grid_auto_columns": null,
            "grid_auto_flow": null,
            "grid_auto_rows": null,
            "grid_column": null,
            "grid_gap": null,
            "grid_row": null,
            "grid_template_areas": null,
            "grid_template_columns": null,
            "grid_template_rows": null,
            "height": null,
            "justify_content": null,
            "justify_items": null,
            "left": null,
            "margin": null,
            "max_height": null,
            "max_width": null,
            "min_height": null,
            "min_width": null,
            "object_fit": null,
            "object_position": null,
            "order": null,
            "overflow": null,
            "overflow_x": null,
            "overflow_y": null,
            "padding": null,
            "right": null,
            "top": null,
            "visibility": null,
            "width": null
          }
        },
        "f4c26b7d04204fc398b1b2132eac80cb": {
          "model_module": "@jupyter-widgets/output",
          "model_name": "OutputModel",
          "model_module_version": "1.0.0",
          "state": {
            "_dom_classes": [],
            "_model_module": "@jupyter-widgets/output",
            "_model_module_version": "1.0.0",
            "_model_name": "OutputModel",
            "_view_count": null,
            "_view_module": "@jupyter-widgets/output",
            "_view_module_version": "1.0.0",
            "_view_name": "OutputView",
            "layout": "IPY_MODEL_04addb5699e344a7b7927841b036e13a",
            "msg_id": "",
            "outputs": [
              {
                "output_type": "display_data",
                "data": {
                  "text/plain": "                                                                                                                   \n \u001b[1m          \u001b[0m \u001b[1m       \u001b[0m \u001b[1m          \u001b[0m \u001b[1m \u001b[0m\u001b[1mStep    \u001b[0m\u001b[1m \u001b[0m \u001b[1m \u001b[0m\u001b[1mGrad    \u001b[0m\u001b[1m \u001b[0m \u001b[1m        \u001b[0m \u001b[1m         \u001b[0m \u001b[1m \u001b[0m\u001b[1mAccept  \u001b[0m\u001b[1m \u001b[0m \u001b[1m \u001b[0m\u001b[1mSampling\u001b[0m\u001b[1m \u001b[0m \u001b[1m         \u001b[0m \u001b[1m          \u001b[0m \n \u001b[1m \u001b[0m\u001b[1mProgress\u001b[0m\u001b[1m \u001b[0m \u001b[1m \u001b[0m\u001b[1mDraws\u001b[0m\u001b[1m \u001b[0m \u001b[1m \u001b[0m\u001b[1mDiverge…\u001b[0m\u001b[1m \u001b[0m \u001b[1m \u001b[0m\u001b[1msize    \u001b[0m\u001b[1m \u001b[0m \u001b[1m \u001b[0m\u001b[1mevals   \u001b[0m\u001b[1m \u001b[0m \u001b[1m \u001b[0m\u001b[1mTuning\u001b[0m\u001b[1m \u001b[0m \u001b[1m \u001b[0m\u001b[1mScaling\u001b[0m\u001b[1m \u001b[0m \u001b[1m \u001b[0m\u001b[1mRate    \u001b[0m\u001b[1m \u001b[0m \u001b[1m \u001b[0m\u001b[1mSpeed   \u001b[0m\u001b[1m \u001b[0m \u001b[1m \u001b[0m\u001b[1mElapsed\u001b[0m\u001b[1m \u001b[0m \u001b[1m \u001b[0m\u001b[1mRemaini…\u001b[0m\u001b[1m \u001b[0m \n ───────────────────────────────────────────────────────────────────────────────────────────────────────────────── \n  \u001b[38;2;31;119;180m━━━━━━━━\u001b[0m   3000    0          0.96       3          False    2.00      0.55       423.67     0:00:07   0:00:00   \n                                                                                    draws/s                        \n  \u001b[38;2;31;119;180m━━━━━━━━\u001b[0m   3000    0          1.43       3          False    2.20      0.78       426.21     0:00:07   0:00:00   \n                                                                                    draws/s                        \n                                                                                                                   \n",
                  "text/html": "<pre style=\"white-space:pre;overflow-x:auto;line-height:normal;font-family:Menlo,'DejaVu Sans Mono',consolas,'Courier New',monospace\">                                                                                                                   \n <span style=\"font-weight: bold\">          </span> <span style=\"font-weight: bold\">       </span> <span style=\"font-weight: bold\">          </span> <span style=\"font-weight: bold\"> Step     </span> <span style=\"font-weight: bold\"> Grad     </span> <span style=\"font-weight: bold\">        </span> <span style=\"font-weight: bold\">         </span> <span style=\"font-weight: bold\"> Accept   </span> <span style=\"font-weight: bold\"> Sampling </span> <span style=\"font-weight: bold\">         </span> <span style=\"font-weight: bold\">          </span> \n <span style=\"font-weight: bold\"> Progress </span> <span style=\"font-weight: bold\"> Draws </span> <span style=\"font-weight: bold\"> Diverge… </span> <span style=\"font-weight: bold\"> size     </span> <span style=\"font-weight: bold\"> evals    </span> <span style=\"font-weight: bold\"> Tuning </span> <span style=\"font-weight: bold\"> Scaling </span> <span style=\"font-weight: bold\"> Rate     </span> <span style=\"font-weight: bold\"> Speed    </span> <span style=\"font-weight: bold\"> Elapsed </span> <span style=\"font-weight: bold\"> Remaini… </span> \n ───────────────────────────────────────────────────────────────────────────────────────────────────────────────── \n  <span style=\"color: #1f77b4; text-decoration-color: #1f77b4\">━━━━━━━━</span>   3000    0          0.96       3          False    2.00      0.55       423.67     0:00:07   0:00:00   \n                                                                                    draws/s                        \n  <span style=\"color: #1f77b4; text-decoration-color: #1f77b4\">━━━━━━━━</span>   3000    0          1.43       3          False    2.20      0.78       426.21     0:00:07   0:00:00   \n                                                                                    draws/s                        \n                                                                                                                   \n</pre>\n"
                },
                "metadata": {}
              }
            ]
          }
        },
        "04addb5699e344a7b7927841b036e13a": {
          "model_module": "@jupyter-widgets/base",
          "model_name": "LayoutModel",
          "model_module_version": "1.2.0",
          "state": {
            "_model_module": "@jupyter-widgets/base",
            "_model_module_version": "1.2.0",
            "_model_name": "LayoutModel",
            "_view_count": null,
            "_view_module": "@jupyter-widgets/base",
            "_view_module_version": "1.2.0",
            "_view_name": "LayoutView",
            "align_content": null,
            "align_items": null,
            "align_self": null,
            "border": null,
            "bottom": null,
            "display": null,
            "flex": null,
            "flex_flow": null,
            "grid_area": null,
            "grid_auto_columns": null,
            "grid_auto_flow": null,
            "grid_auto_rows": null,
            "grid_column": null,
            "grid_gap": null,
            "grid_row": null,
            "grid_template_areas": null,
            "grid_template_columns": null,
            "grid_template_rows": null,
            "height": null,
            "justify_content": null,
            "justify_items": null,
            "left": null,
            "margin": null,
            "max_height": null,
            "max_width": null,
            "min_height": null,
            "min_width": null,
            "object_fit": null,
            "object_position": null,
            "order": null,
            "overflow": null,
            "overflow_x": null,
            "overflow_y": null,
            "padding": null,
            "right": null,
            "top": null,
            "visibility": null,
            "width": null
          }
        }
      }
    }
  },
  "nbformat": 4,
  "nbformat_minor": 5
}